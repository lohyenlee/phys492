{
 "cells": [
  {
   "cell_type": "markdown",
   "id": "faad8aab-87d9-4181-b57a-137713818ff6",
   "metadata": {
    "tags": []
   },
   "source": [
    "<div class='alert alert-success'>\n",
    "    <h1>Qiskit Tutorial, Part 4: Deutsch, Grover, and QFT Algorithms </h1>\n",
    "    <h4>Yen Lee Loh; started 2023-4-5, edited 2023-4-7 </h4>\n",
    "</div>"
   ]
  },
  {
   "cell_type": "markdown",
   "id": "ba029274-bdbd-4b86-8b96-bd380235d1b4",
   "metadata": {
    "jp-MarkdownHeadingCollapsed": true,
    "tags": []
   },
   "source": [
    "<div class=\"alert alert-info\"><h2>  Setup  </h2></div>"
   ]
  },
  {
   "cell_type": "markdown",
   "id": "5c885e90-b4f8-434e-9d52-dc61ce50959e",
   "metadata": {},
   "source": [
    "This is a Markdown cell with LaTeX definitions.  Please run it.\n",
    "$\\newcommand{\\mean}[1]{\\langle #1 \\rangle}$\n",
    "$\\newcommand{\\ket}[1]{\\lvert #1 \\rangle}$\n",
    "$\\newcommand{\\adag}{a^\\dagger}$"
   ]
  },
  {
   "cell_type": "code",
   "execution_count": null,
   "id": "3b1f1a1c-afd9-484a-947b-5a33e97fce0f",
   "metadata": {
    "tags": []
   },
   "outputs": [],
   "source": [
    "import numpy as np; from numpy import random\n",
    "import matplotlib as mpl\n",
    "import matplotlib.pyplot as plt\n",
    "import matplotlib.patches as patches\n",
    "import qiskit,qiskit_aer\n",
    "import qiskit.visualization as qisvis\n",
    "from qiskit.providers.fake_provider import fake_provider\n",
    "vigoBackend = fake_provider.FakeVigo()\n",
    "rng = random.default_rng()\n",
    "\n",
    "def toBitString(integer, numBits): return bin(integer)[2:].zfill(numBits)\n",
    "def plotStateVector(psi,ax,cmap=mpl.cm.hsv):\n",
    "  nmax = int(np.log(len(psi)) / np.log(2)) # number of qubits\n",
    "  lmax = 2**nmax                           # number of states\n",
    "  probs = np.abs(psi)**2\n",
    "  phases = np.remainder(np.angle(psi) / (2*np.pi), 1)\n",
    "  for l in range(lmax):\n",
    "    patch = patches.Rectangle([l,0], 1,probs[l], ec='black', fc=cmap(phases[l]))\n",
    "    ax.add_patch(patch)\n",
    "  ax.set_xticks([l+.5 for l in range(lmax)])\n",
    "  ax.set_xticklabels([toBitString(l,nmax) for l in range(lmax)])\n",
    "  ax.set_xlim(-.5, lmax+.5)\n",
    "  ax.set_ylim(0, max(probs)*1.1)\n",
    "def padCounts(cts, numBits):\n",
    "  def sanitize(count): return (0 if count==None else count)\n",
    "  n = numBits\n",
    "  return {toBitString(i,n):sanitize(cts.get(toBitString(i,n))) for i in range(2**n)}\n",
    "def plotHistogram(counts,ax,fc='#9cf',textrot=0):\n",
    "  if isinstance (counts, dict):\n",
    "    nmax = len(list(counts.keys()) [0] )  # ugly\n",
    "    counts = padCounts(counts,nmax)\n",
    "    counts = list(counts.values())\n",
    "  nmax = int(np.log(len(counts)) / np.log(2)) # number of qubits\n",
    "  lmax = 2**nmax                           # number of states\n",
    "  ymax = max(counts)\n",
    "  for l in range(lmax):\n",
    "    c = counts[l]\n",
    "    patch = patches.Rectangle([l,0], 1,c, ec='black', fc=fc)\n",
    "    ax.add_patch(patch)\n",
    "    if c>0:\n",
    "      y = (c+.07*ymax if c<0.9*ymax else c-.07*ymax)\n",
    "      ax.text (l+.5, y, c, va='center',ha='center')\n",
    "  ax.set_xticks([l+.5 for l in range(lmax)])\n",
    "  ax.set_xticklabels([toBitString(l,nmax) for l in range(lmax)])  \n",
    "  ax.tick_params(axis='x', labelrotation=textrot)\n",
    "  ax.set_xlim(-.5, lmax+.5)\n",
    "  ax.set_ylim(0, ymax*1.02)\n",
    "\n",
    "sim = qiskit_aer.AerSimulator()                         # run this line if you want to use ideal simulator\n",
    "\n",
    "#sim = qiskit_aer.AerSimulator.from_backend(vigoBackend) # uncomment and run if you want to use a noisy simulator based on IBM's Vigo machine"
   ]
  },
  {
   "cell_type": "markdown",
   "id": "f2fdf32f-3335-4be9-929c-3112760a63fa",
   "metadata": {
    "jp-MarkdownHeadingCollapsed": true,
    "tags": []
   },
   "source": [
    "<div class=\"alert alert-info\"><h2>  Deutsch algorithm  </h2></div>"
   ]
  },
  {
   "cell_type": "code",
   "execution_count": null,
   "id": "04c66d21-9cb9-4caa-918e-9f8f651625c2",
   "metadata": {
    "tags": []
   },
   "outputs": [],
   "source": [
    "oracle = rng.integers(4)      # oracle=2 means f(0)=1 and f(1)=0; oracle=3 means f(0)=1 and f(1)=1\n",
    "#======== Apply H0,X1,H1 \n",
    "cir = qiskit.QuantumCircuit(2,1)\n",
    "cir.h(0); cir.x(1); cir.h(1)\n",
    "#======== Consult oracle\n",
    "if oracle==0: pass            # oracle output is always 0, so nothing happens\n",
    "if oracle==1: cir.cx(0,1)     # oracle returns f(x)=x, so this is a regular CNOT gate\n",
    "if oracle==2: cir.x(0); cir.cx(0,1); cir.x(0); # oracle returns f(x)=1-x\n",
    "if oracle==3: cir.x(1)        # oracle output is always 1, so output qubit gets flipped\n",
    "#======== Apply H0,M0\n",
    "cir.h(0)\n",
    "cir.measure([0],[0])\n",
    "#======== Draw circuit\n",
    "display( cir.draw('mpl') ) \n",
    "#======== Test circuit\n",
    "exe=qiskit.transpile(cir,sim); job=sim.run(exe,shots=100); res=job.result(); cts=res.get_counts(exe)\n",
    "print(f'Oracle                        f(0)={oracle>>1}, f(1)={oracle&1}')\n",
    "print(f'Constant(0) or balanced(1)    {1 if oracle==1 or oracle==2 else 0}')\n",
    "print(f'Deutsch algorithm output      {cts}')\n",
    "print(f'\\nThe above code randomly chooses the oracle from 4 possibilities.\\nThe output of the Deutsch algorithm should match the oracle type 100% of the time.')"
   ]
  },
  {
   "cell_type": "markdown",
   "id": "91d6cfa6-0a2e-40e2-a5c7-0ffb28292759",
   "metadata": {
    "jp-MarkdownHeadingCollapsed": true,
    "tags": []
   },
   "source": [
    "<div class=\"alert alert-info\"><h2>  Grover algorithm  </h2></div>"
   ]
  },
  {
   "cell_type": "code",
   "execution_count": null,
   "id": "07a7c1a0-4ff5-459c-a8ee-5820747c7631",
   "metadata": {
    "tags": []
   },
   "outputs": [],
   "source": [
    "def ccccnot(c): # 0123=input, 4=input, 5=ancilla\n",
    "  c.ccx(0,1,4); c.ccx(2,4,5); c.ccx(0,1,4); c.ccx(2,4,5); c.ccx(3,5,4)\n",
    "  c.ccx(0,1,4); c.ccx(2,4,5); c.ccx(0,1,4); c.ccx(2,4,5); c.ccx(3,5,4)\n",
    "def oracle(c):\n",
    "  c.x(0);c.x(3);ccccnot(c);c.x(0);c.x(3)    # this is deliberately opaque\n",
    "def grover(c):\n",
    "  c.h(0);c.h(1);c.h(2);c.h(3);              # transform into Walsh basis\n",
    "  c.x(0);c.x(1);c.x(2);c.x(3); ccccnot(c)   # flip bit 4 only if bits 0-3 are 0000 \n",
    "  c.x(0);c.x(1);c.x(2);c.x(3);              # uncompute\n",
    "  c.h(0);c.h(1);c.h(2);c.h(3);              # transform back\n",
    "def groverDemo(iterations=1):\n",
    "  cir = qiskit.QuantumCircuit(6,4)\n",
    "  cir.h(0);cir.h(1);cir.h(2);cir.h(3)    # initialize to Grover state\n",
    "  for i in range(iterations):\n",
    "    oracle(cir); grover(cir)             # apply oracle (F) and grover (G)\n",
    "  cir.measure([0,1,2,3],[0,1,2,3])\n",
    "  exe=qiskit.transpile(cir,sim); job=sim.run(exe,shots=100); res=job.result(); cts=res.get_counts(exe)\n",
    "  fig,axs = plt.subplots(1,2,figsize=(20,2))\n",
    "  cir.draw('mpl',fold=-1,ax=axs[0])\n",
    "  qisvis.plot_histogram(cts,ax=axs[1])"
   ]
  },
  {
   "cell_type": "code",
   "execution_count": null,
   "id": "78e04c3a-ee08-413b-ae59-853d0b50897d",
   "metadata": {},
   "outputs": [],
   "source": [
    "#===============================================================\n",
    "# The circuit below implements an oracle function gate F,\n",
    "# where F flips q4 for a particular combination of q0,q1,q2,q3.\n",
    "# It's not obvious what that combination is!\n",
    "#===============================================================\n",
    "cir = qiskit.QuantumCircuit(6); oracle(cir); fig,ax=plt.subplots(1,1,figsize=(12,3)); cir.draw('mpl',ax=ax)"
   ]
  },
  {
   "cell_type": "code",
   "execution_count": null,
   "id": "13d59947-30ff-4b2f-9787-de6462078c37",
   "metadata": {},
   "outputs": [],
   "source": [
    "#===============================================================\n",
    "# The circuit below performs the Grover operation G = W F_0 W\n",
    "# where W is a Walsh transform and F_0 flips q4 if q0=q1=q2=q3=0.\n",
    "#===============================================================\n",
    "cir = qiskit.QuantumCircuit(6); grover(cir); fig,ax=plt.subplots(1,1,figsize=(12,3)); cir.draw('mpl',ax=ax)"
   ]
  },
  {
   "cell_type": "code",
   "execution_count": null,
   "id": "f44272fd-b4c8-4dbc-8deb-9d8d9de6b9c3",
   "metadata": {},
   "outputs": [],
   "source": [
    "#===============================================================\n",
    "# The function groverDemo(...) applies Grover's algorithm:\n",
    "# 1. Apply a Hadamard gate to each input qubit.  \n",
    "#    This sets the statevector to |g>.\n",
    "# 2. Apply the operator R=GF several times.  \n",
    "#    This operator rotates the statevector from |g> toward |f>.\n",
    "# 3. Measure all input qubits.\n",
    "#===============================================================\n",
    "groverDemo(iterations=1)\n",
    "groverDemo(iterations=2)\n",
    "groverDemo(iterations=3)"
   ]
  },
  {
   "cell_type": "markdown",
   "id": "952f6118-234c-47cc-90a5-7c6d18b28819",
   "metadata": {},
   "source": [
    "The demo above shows that for a 4-bit oracle, 3 iterations of Grover's algorithm give us the correct answer about 50% of the time."
   ]
  },
  {
   "cell_type": "markdown",
   "id": "e012e2d8-97f5-4fa3-a655-d9e5269eba15",
   "metadata": {
    "jp-MarkdownHeadingCollapsed": true,
    "tags": []
   },
   "source": [
    "<div class=\"alert alert-info\"><h2>  Quantum Fourier transform starting from one basis state  </h2></div>"
   ]
  },
  {
   "cell_type": "code",
   "execution_count": null,
   "id": "f289860b-e77a-4c2f-8bb0-5d774b5a2786",
   "metadata": {},
   "outputs": [],
   "source": [
    "initialState = 3   # change this if you like to any number between 0 and 15 inclusive\n",
    "\n",
    "def initState (cir,value,numBits):\n",
    "  for i in range(numBits):\n",
    "    if (value>>i)&1 == 0: cir.x(i)\n",
    "#======== Set up\n",
    "cir = qiskit.QuantumCircuit(4)\n",
    "initState (cir, value=initialState, numBits=4)   # init statevector\n",
    "cir.barrier()\n",
    "cir.swap(0,3); cir.swap(1,2)                     # Bit-reversal permutation\n",
    "cir.barrier()\n",
    "#======== Quantum Fourier transform\n",
    "cir.h(0); cir.cp(np.pi/2, 1,0); cir.cp(np.pi/4, 2,0); cir.cp(np.pi/8, 3,0)\n",
    "cir.h(1); cir.cp(np.pi/2, 2,1); cir.cp(np.pi/4, 3,1)\n",
    "cir.h(2); cir.cp(np.pi/2, 3,2)\n",
    "cir.h(3)\n",
    "#======== Draw circuit\n",
    "fig,axs = plt.subplots(2,2,figsize=(24,6)); axs[1,0].axis('off')\n",
    "cir.draw('mpl',justify='none',fold=-1,ax=axs[0,0])\n",
    "#======== Execute the quantum circuit on a statevector simulator\n",
    "sim = qiskit.BasicAer.get_backend('statevector_simulator')\n",
    "exe = qiskit.transpile(cir, sim)\n",
    "job = sim.run(exe)\n",
    "res = job.result()\n",
    "psi = res.get_statevector(cir)\n",
    "np.set_printoptions(precision=2,linewidth=200); print ('psi = ', np.array(psi))\n",
    "#======== Visualize the statevector in various ways\n",
    "plotStateVector(psi,ax=axs[0,1])\n",
    "ax=axs[1,1]\n",
    "ax.plot (np.real(psi))\n",
    "ax.plot (np.imag(psi));"
   ]
  },
  {
   "cell_type": "markdown",
   "id": "61e52e54-528d-4166-927b-0ee4dd743447",
   "metadata": {
    "jp-MarkdownHeadingCollapsed": true,
    "tags": []
   },
   "source": [
    "<div class=\"alert alert-info\"><h2>  Quantum Fourier transform starting from superposition of two basis states  </h2></div>"
   ]
  },
  {
   "cell_type": "code",
   "execution_count": null,
   "id": "878c209e-e58e-427b-958a-87fecdb469ef",
   "metadata": {},
   "outputs": [],
   "source": [
    "def initStates(cir,vals):\n",
    "  if vals==0:        pass\n",
    "  elif vals==1:      cir.x(0) \n",
    "  elif vals=='all':  cir.h(0); cir.h(1); cir.h(2); cir.h(3)\n",
    "  elif vals==[1,15]: cir.h(3); cir.cx(3,2); cir.cx(3,1); cir.x(0)\n",
    "  elif vals==[2,14]: cir.h(3); cir.cx(3,2); cir.x(1)\n",
    "  elif vals==[3,13]: cir.h(3); cir.cx(3,2); cir.cx(3,1); cir.x(1); cir.x(0)\n",
    "  elif vals==[4,12]: cir.h(3); cir.x(2)\n",
    "  \n",
    "def myInit(cir):   initStates(cir,[1,15])\n",
    "\n",
    "sim = qiskit.BasicAer.get_backend('statevector_simulator')\n",
    "fig,axs = plt.subplots(2,2,figsize=(24,6)); axs[1,0].axis('off')\n",
    "#======== Calculate initial state\n",
    "cir = qiskit.QuantumCircuit(4)\n",
    "myInit(cir)\n",
    "[cir.barrier() for i in range(20)]\n",
    "cir.draw('mpl',justify='none',fold=-1,ax=axs[0,0])\n",
    "psi = sim.run(qiskit.transpile(cir,sim)).result().get_statevector(cir)\n",
    "plotStateVector (psi,ax=axs[0,1])\n",
    "#======== Calculate final state\n",
    "cir = qiskit.QuantumCircuit(4)\n",
    "myInit(cir)\n",
    "cir.barrier()\n",
    "cir.swap(0,3); cir.swap(1,2)                     # Bit-reversal permutation\n",
    "cir.barrier()\n",
    "#======== Quantum Fourier transform\n",
    "cir.h(0); cir.cp(np.pi/2, 1,0); cir.cp(np.pi/4, 2,0); cir.cp(np.pi/8, 3,0)\n",
    "cir.h(1); cir.cp(np.pi/2, 2,1); cir.cp(np.pi/4, 3,1)\n",
    "cir.h(2); cir.cp(np.pi/2, 3,2)\n",
    "cir.h(3)\n",
    "cir.draw('mpl',justify='none',fold=-1,ax=axs[1,0])\n",
    "psi = sim.run(qiskit.transpile(cir,sim)).result().get_statevector(cir)\n",
    "plotStateVector(psi,ax=axs[1,1])"
   ]
  },
  {
   "cell_type": "markdown",
   "id": "cf591564-430b-4572-9fa1-1e338820865b",
   "metadata": {
    "jp-MarkdownHeadingCollapsed": true,
    "tags": []
   },
   "source": [
    "<div class=\"alert alert-info\"><h2>  Quantum Fourier transform from library  </h2></div>"
   ]
  },
  {
   "cell_type": "code",
   "execution_count": 1,
   "id": "048b935d-fb4c-4698-b1b5-45127c37f0ff",
   "metadata": {},
   "outputs": [
    {
     "ename": "NameError",
     "evalue": "name 'qiskit' is not defined",
     "output_type": "error",
     "traceback": [
      "\u001b[0;31m---------------------------------------------------------------------------\u001b[0m",
      "\u001b[0;31mNameError\u001b[0m                                 Traceback (most recent call last)",
      "Input \u001b[0;32mIn [1]\u001b[0m, in \u001b[0;36m<cell line: 1>\u001b[0;34m()\u001b[0m\n\u001b[0;32m----> 1\u001b[0m sim \u001b[38;5;241m=\u001b[39m \u001b[43mqiskit\u001b[49m\u001b[38;5;241m.\u001b[39mBasicAer\u001b[38;5;241m.\u001b[39mget_backend(\u001b[38;5;124m'\u001b[39m\u001b[38;5;124mstatevector_simulator\u001b[39m\u001b[38;5;124m'\u001b[39m)\n\u001b[1;32m      2\u001b[0m fig,axs \u001b[38;5;241m=\u001b[39m plt\u001b[38;5;241m.\u001b[39msubplots(\u001b[38;5;241m2\u001b[39m,\u001b[38;5;241m2\u001b[39m,figsize\u001b[38;5;241m=\u001b[39m(\u001b[38;5;241m24\u001b[39m,\u001b[38;5;241m5\u001b[39m))\n\u001b[1;32m      3\u001b[0m \u001b[38;5;66;03m#======== Calculate initial state\u001b[39;00m\n",
      "\u001b[0;31mNameError\u001b[0m: name 'qiskit' is not defined"
     ]
    }
   ],
   "source": [
    "sim = qiskit.BasicAer.get_backend('statevector_simulator')\n",
    "fig,axs = plt.subplots(2,2,figsize=(24,5))\n",
    "#======== Calculate initial state\n",
    "cir = qiskit.QuantumCircuit(4)\n",
    "myInit(cir)\n",
    "[cir.barrier() for i in range(2)]\n",
    "cir.draw('mpl',justify='none',fold=-1,ax=axs[0,0])\n",
    "psi = sim.run(qiskit.transpile(cir,sim)).result().get_statevector(cir)\n",
    "plotStateVector (psi,ax=axs[0,1])\n",
    "#======== Calculate final state\n",
    "cir = qiskit.QuantumCircuit(4)\n",
    "myInit(cir)\n",
    "cir.barrier()\n",
    "cir.append(qiskit.circuit.library.QFT(4), [0,1,2,3])          # 4-qubit quantum Fourier transform\n",
    "cir.draw('mpl',justify='none',fold=-1,ax=axs[1,0])\n",
    "psi = sim.run(qiskit.transpile(cir,sim)).result().get_statevector(cir)\n",
    "plotStateVector(psi,ax=axs[1,1])\n",
    "\n",
    "sim = qiskit_aer.AerSimulator()\n",
    "fig,axs = plt.subplots(2,2,figsize=(24,5))\n",
    "#======== Calculate initial state\n",
    "cir = qiskit.QuantumCircuit(4,4)\n",
    "myInit(cir)\n",
    "cir.barrier()\n",
    "cir.i(0)\n",
    "cir.measure([0,1,2,3],[0,1,2,3])\n",
    "cir.draw('mpl',justify='none',fold=-1,ax=axs[0,0])\n",
    "cts = sim.run(qiskit.transpile(cir,sim),shots=1000).result().get_counts(cir)\n",
    "cts = padCounts(cts,4)\n",
    "plotHistogram(list(cts.values()), ax=axs[0,1])# qisvis.plot_histogram(cts, ax=axs[0,1])\n",
    "#======== Calculate final state\n",
    "cir = qiskit.QuantumCircuit(4,4)\n",
    "myInit(cir)\n",
    "cir.barrier()\n",
    "cir.append(qiskit.circuit.library.QFT(4), [0,1,2,3])          # 4-qubit quantum Fourier transform\n",
    "cir.measure([0,1,2,3],[0,1,2,3])\n",
    "cir.draw('mpl',justify='none',fold=-1,ax=axs[1,0])\n",
    "cts = sim.run(qiskit.transpile(cir,sim),shots=1000).result().get_counts(cir)\n",
    "cts = padCounts(cts,4)\n",
    "plotHistogram(list(cts.values()), ax=axs[1,1])"
   ]
  },
  {
   "cell_type": "code",
   "execution_count": null,
   "id": "74fc52bc-73c5-406f-95f7-625e5709af7c",
   "metadata": {},
   "outputs": [],
   "source": [
    "# qisvis.plot_histogram(cts)"
   ]
  },
  {
   "cell_type": "markdown",
   "id": "2df1ff27-6a3f-4c9f-9c67-b9a25dd65b18",
   "metadata": {
    "tags": []
   },
   "source": [
    "<div class=\"alert alert-info\" style=\"background-color: #FF9; border-color: #CC6;\"><h2>  Suggested activities  </h2></div>"
   ]
  },
  {
   "cell_type": "markdown",
   "id": "807d6148-bd60-40b3-82bb-7b3eedee74bb",
   "metadata": {},
   "source": [
    "3.1. Subtractive exploration\n",
    "- Take the above code and simplify it, e.g., to do 3-qubit quantum Fourier transform.\n",
    "\n",
    "3.2. Deutsch-Josza\n",
    "- Implement the D-J algorithm.\n"
   ]
  }
 ],
 "metadata": {
  "kernelspec": {
   "display_name": "Python 3 (ipykernel)",
   "language": "python",
   "name": "python3"
  },
  "language_info": {
   "codemirror_mode": {
    "name": "ipython",
    "version": 3
   },
   "file_extension": ".py",
   "mimetype": "text/x-python",
   "name": "python",
   "nbconvert_exporter": "python",
   "pygments_lexer": "ipython3",
   "version": "3.9.12"
  }
 },
 "nbformat": 4,
 "nbformat_minor": 5
}
