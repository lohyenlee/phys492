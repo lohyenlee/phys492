{
 "cells": [
  {
   "cell_type": "markdown",
   "id": "dc4bb02a-1043-40fe-a217-4ff5f3f00eae",
   "metadata": {
    "tags": []
   },
   "source": [
    "<div class='alert alert-success'>\n",
    "    <h1>Qiskit Tutorial, Part 3: Arithmetic </h1>\n",
    "    <h4>Yen Lee Loh; started 2023-4-5, edited 2023-4-7 </h4>\n",
    "</div>"
   ]
  },
  {
   "cell_type": "markdown",
   "id": "ba029274-bdbd-4b86-8b96-bd380235d1b4",
   "metadata": {
    "jp-MarkdownHeadingCollapsed": true,
    "tags": []
   },
   "source": [
    "<div class=\"alert alert-info\"><h2>  Setup  </h2></div>"
   ]
  },
  {
   "cell_type": "markdown",
   "id": "5c885e90-b4f8-434e-9d52-dc61ce50959e",
   "metadata": {},
   "source": [
    "This is a Markdown cell with LaTeX definitions.  Please run it.\n",
    "$\\newcommand{\\mean}[1]{\\langle #1 \\rangle}$\n",
    "$\\newcommand{\\ket}[1]{\\lvert #1 \\rangle}$\n",
    "$\\newcommand{\\adag}{a^\\dagger}$"
   ]
  },
  {
   "cell_type": "code",
   "execution_count": 2,
   "id": "3b1f1a1c-afd9-484a-947b-5a33e97fce0f",
   "metadata": {
    "tags": []
   },
   "outputs": [],
   "source": [
    "import numpy as np; from numpy import random\n",
    "import matplotlib as mpl\n",
    "import matplotlib.pyplot as plt\n",
    "import matplotlib.patches as patches\n",
    "import qiskit,qiskit_aer\n",
    "import qiskit.visualization as qisvis\n",
    "from qiskit.providers.fake_provider import fake_provider\n",
    "vigoBackend = fake_provider.FakeVigo()\n",
    "rng = random.default_rng()\n",
    "\n",
    "def toBitString(integer, numBits): return bin(integer)[2:].zfill(numBits)\n",
    "def plotStateVector(psi,ax,cmap=mpl.cm.hsv):\n",
    "  nmax = int(np.log(len(psi)) / np.log(2)) # number of qubits\n",
    "  lmax = 2**nmax                           # number of states\n",
    "  probs = np.abs(psi)**2\n",
    "  phases = np.remainder(np.angle(psi) / (2*np.pi), 1)\n",
    "  for l in range(lmax):\n",
    "    patch = patches.Rectangle([l,0], 1,probs[l], ec='black', fc=cmap(phases[l]))\n",
    "    ax.add_patch(patch)\n",
    "  ax.set_xticks([l+.5 for l in range(lmax)])\n",
    "  ax.set_xticklabels([toBitString(l,nmax) for l in range(lmax)])\n",
    "  ax.set_xlim(-.5, lmax+.5)\n",
    "  ax.set_ylim(0, max(probs)*1.1)\n",
    "def padCounts(cts, numBits):\n",
    "  def sanitize(count): return (0 if count==None else count)\n",
    "  n = numBits\n",
    "  return {toBitString(i,n):sanitize(cts.get(toBitString(i,n))) for i in range(2**n)}\n",
    "def plotHistogram(counts,ax,fc='#9cf',textrot=0):\n",
    "  if isinstance (counts, dict):\n",
    "    nmax = len(list(counts.keys()) [0] )  # ugly\n",
    "    counts = padCounts(counts,nmax)\n",
    "    counts = list(counts.values())\n",
    "  nmax = int(np.log(len(counts)) / np.log(2)) # number of qubits\n",
    "  lmax = 2**nmax                           # number of states\n",
    "  ymax = max(counts)\n",
    "  for l in range(lmax):\n",
    "    c = counts[l]\n",
    "    patch = patches.Rectangle([l,0], 1,c, ec='black', fc=fc)\n",
    "    ax.add_patch(patch)\n",
    "    if c>0:\n",
    "      y = (c+.07*ymax if c<0.9*ymax else c-.07*ymax)\n",
    "      ax.text (l+.5, y, c, va='center',ha='center')\n",
    "  ax.set_xticks([l+.5 for l in range(lmax)])\n",
    "  ax.set_xticklabels([toBitString(l,nmax) for l in range(lmax)])  \n",
    "  ax.tick_params(axis='x', labelrotation=textrot)\n",
    "  ax.set_xlim(-.5, lmax+.5)\n",
    "  ax.set_ylim(0, ymax*1.02)\n",
    "\n",
    "sim = qiskit_aer.AerSimulator()                         # run this line if you want to use ideal simulator\n",
    "\n",
    "#sim = qiskit_aer.AerSimulator.from_backend(vigoBackend) # uncomment and run if you want to use a noisy simulator based on IBM's Vigo machine"
   ]
  },
  {
   "cell_type": "markdown",
   "id": "bbb5c3f0-7959-47cf-95d3-bc169ae8ded0",
   "metadata": {
    "jp-MarkdownHeadingCollapsed": true,
    "tags": []
   },
   "source": [
    "<div class=\"alert alert-info\"><h2>  Reversible 4-bit increment: predefined input </h2></div>"
   ]
  },
  {
   "cell_type": "code",
   "execution_count": 13,
   "id": "e8a229d5-056e-4f71-a6c3-e99f2672034e",
   "metadata": {},
   "outputs": [],
   "source": [
    "def initState (cir, value, numBits):\n",
    "  for i in range(numBits):\n",
    "    if (value>>i)&1:\n",
    "      cir.x(i)"
   ]
  },
  {
   "cell_type": "code",
   "execution_count": 17,
   "id": "d13608be-3e22-4d23-9c63-689efff60d8f",
   "metadata": {
    "tags": []
   },
   "outputs": [
    {
     "name": "stdin",
     "output_type": "stream",
     "text": [
      "Enter a binary number between 0000 and 1111, then press Enter:  1010\n"
     ]
    },
    {
     "data": {
      "image/png": "[encoded data removed]",
      "text/plain": [
       "<Figure size 808.997x385.28 with 1 Axes>"
      ]
     },
     "execution_count": 17,
     "metadata": {},
     "output_type": "execute_result"
    }
   ],
   "source": [
    "inputString = input('Enter a binary number between 0000 and 1111, then press Enter: ')\n",
    "cir = qiskit.QuantumCircuit(5,4)\n",
    "initState (cir, value=int(inputString,2), numBits=4)\n",
    "cir.ccx(0,1,4); cir.ccx(2,4,3); cir.ccx(0,1,4) # q3 ^= q0&q1&q2 (using ancilla q_4)\n",
    "cir.ccx(0,1,2)                                 # q2 ^= q0&q1\n",
    "cir.cx(0,1)                                    # q1 ^= q0\n",
    "cir.x(0)                                       # q0 ^= 1\n",
    "cir.measure([0,1,2,3], [0,1,2,3])              # measure q0,q1,q2,q3 and store in c0,c1,c2,c3\n",
    "cir.draw('mpl', justify='none')"
   ]
  },
  {
   "cell_type": "code",
   "execution_count": 18,
   "id": "a42e388c-7098-42cf-a454-5d7a32d8be8e",
   "metadata": {
    "tags": []
   },
   "outputs": [
    {
     "name": "stdout",
     "output_type": "stream",
     "text": [
      "Input  =  1010\n",
      "Output =  {'1011': 1}\n",
      "\n",
      "If the circuit executed correctly, the output should equal the input plus one.\n"
     ]
    }
   ],
   "source": [
    "exe = qiskit.transpile(cir, sim)\n",
    "job = sim.run(exe, shots=1)\n",
    "res = job.result()\n",
    "cts = res.get_counts(exe)\n",
    "print('Input  = ', inputString)\n",
    "print('Output = ', cts)\n",
    "print('\\nIf the circuit executed correctly, the output should equal the input plus one.')"
   ]
  },
  {
   "cell_type": "markdown",
   "id": "a20c5b5f-0dc7-46da-92a6-dfa07111ae33",
   "metadata": {
    "jp-MarkdownHeadingCollapsed": true,
    "tags": []
   },
   "source": [
    "<div class=\"alert alert-info\"><h2>  Reversible 4-bit increment: superposition of some input states </h2></div>"
   ]
  },
  {
   "cell_type": "code",
   "execution_count": 19,
   "id": "f181ef37-237e-4cdb-be97-d9a45655acab",
   "metadata": {
    "tags": []
   },
   "outputs": [
    {
     "data": {
      "image/png": "[encoded data removed]",
      "text/plain": [
       "<Figure size 808.997x385.28 with 1 Axes>"
      ]
     },
     "execution_count": 19,
     "metadata": {},
     "output_type": "execute_result"
    }
   ],
   "source": [
    "cir = qiskit.QuantumCircuit(5,4)\n",
    "cir.h(0); cir.h(1)                             # generate |0000>+|0001>+|0010>+|0011>\n",
    "cir.ccx(0,1,4); cir.ccx(2,4,3); cir.ccx(0,1,4) # q3 ^= q0&q1&q2 (using ancilla q_4)\n",
    "cir.ccx(0,1,2)                                 # q2 ^= q0&q1\n",
    "cir.cx(0,1)                                    # q1 ^= q0\n",
    "cir.x(0)                                       # q0 ^= 1\n",
    "cir.measure([0,1,2,3], [0,1,2,3])              # measure q0,q1,q2,q3 and store in c0,c1,c2,c3\n",
    "cir.draw('mpl', justify='none')"
   ]
  },
  {
   "cell_type": "code",
   "execution_count": 20,
   "id": "bf3f803d-23d7-4720-8df1-e19925e48e4f",
   "metadata": {
    "tags": []
   },
   "outputs": [
    {
     "name": "stdout",
     "output_type": "stream",
     "text": [
      "counts =  {'0001': 971, '0011': 969, '0010': 1032, '0100': 1028}\n",
      "\n",
      "The two Hadamard gates initialize the quantum computer to |0>+|1>+|2>+|3>.\n",
      "The increment operation changes the state to              |1>+|2>+|3>+|4>.\n",
      "The measurements should return 1, 2, 3, or 4 with equal probability.\n"
     ]
    }
   ],
   "source": [
    "exe = qiskit.transpile(cir, sim)\n",
    "job = sim.run(exe, shots=4000)\n",
    "result = job.result()\n",
    "counts = result.get_counts(exe)\n",
    "print('counts = ', counts)\n",
    "print ('')\n",
    "print('The two Hadamard gates initialize the quantum computer to |0>+|1>+|2>+|3>.')\n",
    "print('The increment operation changes the state to              |1>+|2>+|3>+|4>.')\n",
    "print('The measurements should return 1, 2, 3, or 4 with equal probability.')"
   ]
  },
  {
   "cell_type": "markdown",
   "id": "b5266960-4aa6-46cb-88b4-9273e820704f",
   "metadata": {
    "jp-MarkdownHeadingCollapsed": true,
    "tags": []
   },
   "source": [
    "<div class=\"alert alert-info\"><h2>  2-bit multiplier: superposition of all input states  </h2></div>"
   ]
  },
  {
   "cell_type": "code",
   "execution_count": 1,
   "id": "ff337e1e-81a4-4862-b217-25afc6d10f42",
   "metadata": {
    "tags": []
   },
   "outputs": [
    {
     "ename": "NameError",
     "evalue": "name 'qiskit' is not defined",
     "output_type": "error",
     "traceback": [
      "\u001b[0;31m---------------------------------------------------------------------------\u001b[0m",
      "\u001b[0;31mNameError\u001b[0m                                 Traceback (most recent call last)",
      "Input \u001b[0;32mIn [1]\u001b[0m, in \u001b[0;36m<cell line: 1>\u001b[0;34m()\u001b[0m\n\u001b[0;32m----> 1\u001b[0m cir \u001b[38;5;241m=\u001b[39m \u001b[43mqiskit\u001b[49m\u001b[38;5;241m.\u001b[39mQuantumCircuit(\u001b[38;5;241m8\u001b[39m,\u001b[38;5;241m8\u001b[39m)\n\u001b[1;32m      2\u001b[0m \u001b[38;5;66;03m#======== Generate uniform superposition\u001b[39;00m\n\u001b[1;32m      3\u001b[0m cir\u001b[38;5;241m.\u001b[39mh(\u001b[38;5;241m0\u001b[39m); cir\u001b[38;5;241m.\u001b[39mh(\u001b[38;5;241m1\u001b[39m); cir\u001b[38;5;241m.\u001b[39mh(\u001b[38;5;241m2\u001b[39m); cir\u001b[38;5;241m.\u001b[39mh(\u001b[38;5;241m3\u001b[39m)\n",
      "\u001b[0;31mNameError\u001b[0m: name 'qiskit' is not defined"
     ]
    }
   ],
   "source": [
    "cir = qiskit.QuantumCircuit(8,8)\n",
    "#======== Generate uniform superposition\n",
    "cir.h(0); cir.h(1); cir.h(2); cir.h(3)\n",
    "#======== Multiply input registers [0,1] and [2,3] to give output register [4,5,6,7] using ancilla-free circuit\n",
    "cir.ccx(1,3,7)\n",
    "cir.ccx(1,2,6)\n",
    "cir.ccx(0,2,5)\n",
    "cir.ccx(0,3,1)\n",
    "cir.ccx(1,6,5)\n",
    "cir.ccx(1,6,4)\n",
    "cir.ccx(0,3,1)\n",
    "cir.ccx(1,6,5)\n",
    "cir.ccx(1,6,4)\n",
    "cir.ccx(0,3,6)\n",
    "#======== Measure everything\n",
    "cir.measure([0,1,2,3,4,5,6,7],[0,1,2,3,4,5,6,7])   # Measure q0,q1,q2,q3 and store in c0,c1,c2,c3\n",
    "cir.draw('mpl', justify='none')"
   ]
  },
  {
   "cell_type": "code",
   "execution_count": null,
   "id": "cef103a8-3797-4515-9c49-962a59d1eb2d",
   "metadata": {
    "tags": []
   },
   "outputs": [],
   "source": [
    "exe = qiskit.transpile(cir, sim)\n",
    "job = sim.run(exe, shots=10)\n",
    "res = job.result()\n",
    "cts = res.get_counts(exe)\n",
    "print('Output = ', cts)\n",
    "print('\\nThe quantum computer has performed the following multiplication operations in parallel:\\n')\n",
    "for output in cts.keys():\n",
    "  output = output[::-1]\n",
    "  print (f'  Output bits q0...q7 = {output}      {output[0:2]} * {output[2:4]} = {output[4:8]}')"
   ]
  },
  {
   "cell_type": "markdown",
   "id": "1e259254-ad25-475e-b3f3-02d6553ef1dd",
   "metadata": {
    "tags": []
   },
   "source": [
    "<div class=\"alert alert-info\" style=\"background-color: #FF9; border-color: #CC6;\"><h2>  Suggested activities  </h2></div>"
   ]
  },
  {
   "cell_type": "markdown",
   "id": "04bed99a-5436-4c1b-b853-63355d198153",
   "metadata": {},
   "source": [
    "3.1.  Subtractive exploration\n",
    "- Take the above code and simplify it, e.g., to do reversible 3-bit increment.\n"
   ]
  },
  {
   "cell_type": "code",
   "execution_count": null,
   "id": "613cd8b8-b610-4ee6-af62-3072ce6f688a",
   "metadata": {},
   "outputs": [],
   "source": []
  }
 ],
 "metadata": {
  "kernelspec": {
   "display_name": "Python 3 (ipykernel)",
   "language": "python",
   "name": "python3"
  },
  "language_info": {
   "codemirror_mode": {
    "name": "ipython",
    "version": 3
   },
   "file_extension": ".py",
   "mimetype": "text/x-python",
   "name": "python",
   "nbconvert_exporter": "python",
   "pygments_lexer": "ipython3",
   "version": "3.9.12"
  }
 },
 "nbformat": 4,
 "nbformat_minor": 5
}
