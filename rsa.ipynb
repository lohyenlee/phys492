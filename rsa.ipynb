{
 "cells": [
  {
   "cell_type": "code",
   "execution_count": 3,
   "id": "751772c6-5a35-418f-9797-5161293dd623",
   "metadata": {},
   "outputs": [],
   "source": [
    "import numpy as np\n",
    "def isprime(x):\n",
    "  if x == 2 or x == 3: return True\n",
    "  if x < 2 or x%2 == 0: return False\n",
    "  if x < 9: return True\n",
    "  if x%3 == 0: return False\n",
    "  a = int(x**0.5)\n",
    "  b = 5\n",
    "  while b <= a:\n",
    "    if x%b == 0: return False\n",
    "    if x%(b+2) == 0: return False\n",
    "    b=b+6\n",
    "  return True\n",
    "def factor(x):\n",
    "  a = int(x**0.5)\n",
    "  for p in range(2,a+1):\n",
    "    if x%p == 0: return p\n",
    "  return 1\n",
    "\n",
    "def dump(*ls): \n",
    "  for s in ls: print (s, \"=\", eval(s))\n",
    "rng = np.random.default_rng()"
   ]
  },
  {
   "cell_type": "markdown",
   "id": "5d177d62-36ca-4c5a-999a-9b14e8387248",
   "metadata": {},
   "source": [
    "# Everybody: Run the code below to generate your public-private key pair"
   ]
  },
  {
   "cell_type": "code",
   "execution_count": 12,
   "id": "6768f51c-aef2-43e8-9a7e-e495f04e92a3",
   "metadata": {},
   "outputs": [
    {
     "name": "stdout",
     "output_type": "stream",
     "text": [
      "Generating first random prime factor:  p = 773\n",
      "Generating second random prime factor: q = 271\n",
      "Calculating public modulus:            n = p * q       = 209483\n",
      "Calculating private modulus:           t = (p-1)*(q-1) = 208440\n",
      "Generating public encryption key:      e = 43651     (must be coprime with t)\n",
      "Generating private decryption key:     d = 69211\n",
      "\n",
      "Write the following on a piece of paper and show it to everyone:\n",
      "\n",
      "\tMY PUBLIC KEY IS (e,n) = (43651, 209483)\n",
      "\n",
      "Do not share your private key!\n"
     ]
    }
   ],
   "source": [
    "pmin = 103\n",
    "pmax = 1003\n",
    "p = q = e = n = t = 0\n",
    "while p==0 or not isprime(p):         p = rng.integers(pmin,pmax+1).item()\n",
    "while q==0 or not isprime(q) or q==p: q = rng.integers(pmin,pmax+1).item()\n",
    "n = p*q\n",
    "t = (p-1)*(q-1)\n",
    "while e==0 or np.gcd(e,t)!=1:         e = rng.integers(2,t+1).item()\n",
    "d = pow (e, -1, t)\n",
    "print (f'Generating first random prime factor:  p = {p}')\n",
    "print (f'Generating second random prime factor: q = {q}')\n",
    "print (f'Calculating public modulus:            n = p * q       = {n}')\n",
    "print (f'Calculating private modulus:           t = (p-1)*(q-1) = {t}')\n",
    "print (f'Generating public encryption key:      e = {e}     (must be coprime with t)')\n",
    "print (f'Generating private decryption key:     d = {d}')\n",
    "print (f'\\nWrite the following on a piece of paper and show it to everyone:\\n\\n\\tMY PUBLIC KEY IS (e,n) = {(e,n)}')\n",
    "print (f'\\nDo not share your private key!')"
   ]
  },
  {
   "cell_type": "markdown",
   "id": "e6a00084-b3a8-4844-a912-85b31e2160c9",
   "metadata": {},
   "source": [
    "# Alice: Run the code below"
   ]
  },
  {
   "cell_type": "code",
   "execution_count": 17,
   "id": "ea18494b-3b57-4425-b6b6-552d2dbbd5de",
   "metadata": {},
   "outputs": [
    {
     "name": "stdin",
     "output_type": "stream",
     "text": [
      "Enter Bob's public key as two integers separated by a comma: (e,n) =  43651,209483\n",
      "Enter the message you want to send (must be an integer smaller than 209483): m =  12345\n"
     ]
    },
    {
     "name": "stdout",
     "output_type": "stream",
     "text": [
      "\n",
      "Write the following on a piece of paper and pass it to Bob:\n",
      "\n",
      "\tHEY BOB: c = 81557\n"
     ]
    }
   ],
   "source": [
    "eBob,nBob = eval(input (\"Enter Bob's public key as two integers separated by a comma: (e,n) = \"))\n",
    "m = eval(input (f\"Enter the message you want to send (must be an integer smaller than {nBob}): m = \"))\n",
    "c = pow (m, eBob, nBob)\n",
    "#dump ('n','e','c')\n",
    "print (f'\\nWrite the following on a piece of paper and pass it to Bob:\\n\\n\\tHEY BOB: c = {c}')"
   ]
  },
  {
   "cell_type": "markdown",
   "id": "ebd8178a-95c3-4184-a9ed-52c89b84cd5d",
   "metadata": {},
   "source": [
    "# Bob: Run the code below"
   ]
  },
  {
   "cell_type": "code",
   "execution_count": 21,
   "id": "95f4bcd6-5e6f-4d56-ba8b-5bdf191df0d7",
   "metadata": {},
   "outputs": [
    {
     "name": "stdin",
     "output_type": "stream",
     "text": [
      "Enter the ciphertext you received from Alice: c =  81557\n"
     ]
    },
    {
     "name": "stdout",
     "output_type": "stream",
     "text": [
      "Decrypting the message using your private key: m = pow(c,d,n) = 81557**69211%209483 = 12345\n",
      "\n",
      "The decrypted message is:\n",
      "\n",
      "\tm = 12345\n"
     ]
    }
   ],
   "source": [
    "c = eval(input (\"Enter the ciphertext you received from Alice: c = \"))\n",
    "m = pow (c, d, n)\n",
    "print (f'Decrypting the message using your private key: m = pow(c,d,n) = {c} ** {d} % {n} = {m}')\n",
    "print (f'\\nThe decrypted message is:\\n\\n\\tm = {m}')"
   ]
  },
  {
   "cell_type": "markdown",
   "id": "bc0f7660-5d12-4013-9d40-4db263d9f164",
   "metadata": {},
   "source": [
    "# Eve: Run the code below"
   ]
  },
  {
   "cell_type": "code",
   "execution_count": 28,
   "id": "0685f826-0450-4aed-b47e-a932235e2cc9",
   "metadata": {},
   "outputs": [
    {
     "name": "stdin",
     "output_type": "stream",
     "text": [
      "Enter Bob's public key as two integers separated by a comma: (e,n) =  43651,209483\n",
      "Enter the ciphertext that Alice sent to Bob, which you intercepted: c =  81557\n"
     ]
    },
    {
     "name": "stdout",
     "output_type": "stream",
     "text": [
      "\n",
      "Now you need to find the value of m such that pow(m,e,n) = c.\n",
      "That is, find m such that\n",
      "\n",
      "tm ** 43651 % 209483 = 81557.\n"
     ]
    }
   ],
   "source": [
    "eBob,nBob = eval(input (\"Enter Bob's public key as two integers separated by a comma: (e,n) = \"))\n",
    "c = eval(input (\"Enter the ciphertext that Alice sent to Bob, which you intercepted: c = \"))\n",
    "print (f'\\nNow you need to find the value of m such that pow(m,e,n) = c.\\nThat is, find m such that\\n\\n\\tm ** {e} % {n} = {c}.')"
   ]
  },
  {
   "cell_type": "code",
   "execution_count": 29,
   "id": "ccbcaa20-d1a9-4648-850d-cc307c139d03",
   "metadata": {},
   "outputs": [
    {
     "name": "stdout",
     "output_type": "stream",
     "text": [
      "Decryption by brute force: m = 12345\n"
     ]
    }
   ],
   "source": [
    "for m in range(nBob):\n",
    "  if pow(m,eBob,nBob)==c:\n",
    "    print (f'Decryption by brute force: m = {m}')"
   ]
  },
  {
   "cell_type": "markdown",
   "id": "b2108050-d02f-46ba-ac64-9e75d334aa98",
   "metadata": {},
   "source": [
    "# Evan: Run the code below"
   ]
  },
  {
   "cell_type": "code",
   "execution_count": 1,
   "id": "2dbc899b-6d43-42fc-a264-c4a5c29cb212",
   "metadata": {},
   "outputs": [
    {
     "name": "stdin",
     "output_type": "stream",
     "text": [
      "Enter Bob's public key as two integers separated by a comma: (e,n) =  43651,209483\n"
     ]
    },
    {
     "name": "stdout",
     "output_type": "stream",
     "text": [
      "To crack Bob's public key to obtain his private key, we need to factor n = 209483.\n"
     ]
    }
   ],
   "source": [
    "eBob,nBob = eval(input (\"Enter Bob's public key as two integers separated by a comma: (e,n) = \"))\n",
    "print (f\"To crack Bob's public key to obtain his private key, we need to factor n = {nBob}.\")"
   ]
  },
  {
   "cell_type": "code",
   "execution_count": 5,
   "id": "e0c0a658-e152-4fb3-82ff-b184fdea69b9",
   "metadata": {},
   "outputs": [
    {
     "name": "stdout",
     "output_type": "stream",
     "text": [
      "Factorize by brute force: 209483 = 271 * 773 = n = p*q where p=271 and q=773\n",
      "p = 271\n",
      "q = 773\n",
      "tBob = 208440\n",
      "dBob = 69211\n",
      "Now we know that Bob's private key is dBob = 69211.\n"
     ]
    }
   ],
   "source": [
    "p = factor (nBob)\n",
    "q = nBob//p\n",
    "print (f'Factorize by brute force: {nBob} = {p} * {q} = n = p*q where p={p} and q={q}')\n",
    "tBob = (p-1)*(q-1)\n",
    "dBob = pow (eBob, -1, tBob)\n",
    "dump ('p','q','tBob','dBob')\n",
    "print (f\"Now we know that Bob's private key is dBob = {dBob}.\")"
   ]
  },
  {
   "cell_type": "code",
   "execution_count": 11,
   "id": "2d0253cd-d983-4bea-8cd0-c73012d4a09b",
   "metadata": {},
   "outputs": [
    {
     "name": "stdin",
     "output_type": "stream",
     "text": [
      "Enter the ciphertext that Alice sent to Bob, which you intercepted: c =  81557\n"
     ]
    },
    {
     "name": "stdout",
     "output_type": "stream",
     "text": [
      "Decrypting the message using Bob's private key, which you obtained by cracking: m = pow(c,d,n) = 81557 ** 69211 % 209483 = 12345\n",
      "\n",
      "The decrypted message is:\n",
      "\n",
      "\tm = 12345\n"
     ]
    }
   ],
   "source": [
    "c = eval(input (\"Enter the ciphertext that Alice sent to Bob, which you intercepted: c = \"))\n",
    "m = pow (c, dBob, nBob)\n",
    "print (f\"Decrypting the message using Bob's private key, which you obtained by cracking: m = pow(c,d,n) = {c} ** {dBob} % {nBob} = {m}\")\n",
    "print (f'\\nThe decrypted message is:\\n\\n\\tm = {m}')"
   ]
  }
 ],
 "metadata": {
  "kernelspec": {
   "display_name": "Python 3 (ipykernel)",
   "language": "python",
   "name": "python3"
  },
  "language_info": {
   "codemirror_mode": {
    "name": "ipython",
    "version": 3
   },
   "file_extension": ".py",
   "mimetype": "text/x-python",
   "name": "python",
   "nbconvert_exporter": "python",
   "pygments_lexer": "ipython3",
   "version": "3.9.12"
  }
 },
 "nbformat": 4,
 "nbformat_minor": 5
}
