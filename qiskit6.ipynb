{
 "cells": [
  {
   "cell_type": "markdown",
   "id": "dc4bb02a-1043-40fe-a217-4ff5f3f00eae",
   "metadata": {
    "tags": []
   },
   "source": [
    "<div class='alert alert-success'>\n",
    "    <h1>Qiskit Tutorial, Part 6: Quantum Information? </h1>\n",
    "    <h4>Yen Lee Loh; started 2023-4-5, edited 2023-4-7 </h4>\n",
    "</div>"
   ]
  },
  {
   "cell_type": "markdown",
   "id": "ba029274-bdbd-4b86-8b96-bd380235d1b4",
   "metadata": {
    "jp-MarkdownHeadingCollapsed": true,
    "tags": []
   },
   "source": [
    "<div class=\"alert alert-info\"><h2>  Setup  </h2></div>"
   ]
  },
  {
   "cell_type": "markdown",
   "id": "5c885e90-b4f8-434e-9d52-dc61ce50959e",
   "metadata": {},
   "source": [
    "This is a Markdown cell with LaTeX definitions.  Please run it.\n",
    "$\\newcommand{\\mean}[1]{\\langle #1 \\rangle}$\n",
    "$\\newcommand{\\ket}[1]{\\lvert #1 \\rangle}$\n",
    "$\\newcommand{\\adag}{a^\\dagger}$"
   ]
  },
  {
   "cell_type": "code",
   "execution_count": 1,
   "id": "3b1f1a1c-afd9-484a-947b-5a33e97fce0f",
   "metadata": {
    "tags": []
   },
   "outputs": [],
   "source": [
    "import numpy as np; from numpy import random\n",
    "import matplotlib as mpl\n",
    "import matplotlib.pyplot as plt\n",
    "import matplotlib.patches as patches\n",
    "import qiskit,qiskit_aer\n",
    "import qiskit.visualization as qisvis\n",
    "from qiskit.providers.fake_provider import fake_provider\n",
    "vigoBackend = fake_provider.FakeVigo()\n",
    "rng = random.default_rng()\n",
    "\n",
    "def toBitString(integer, numBits): return bin(integer)[2:].zfill(numBits)\n",
    "def plotStateVector(psi,ax,cmap=mpl.cm.hsv):\n",
    "  nmax = int(np.log(len(psi)) / np.log(2)) # number of qubits\n",
    "  lmax = 2**nmax                           # number of states\n",
    "  probs = np.abs(psi)**2\n",
    "  phases = np.remainder(np.angle(psi) / (2*np.pi), 1)\n",
    "  for l in range(lmax):\n",
    "    patch = patches.Rectangle([l,0], 1,probs[l], ec='black', fc=cmap(phases[l]))\n",
    "    ax.add_patch(patch)\n",
    "  ax.set_xticks([l+.5 for l in range(lmax)])\n",
    "  ax.set_xticklabels([toBitString(l,nmax) for l in range(lmax)])\n",
    "  ax.set_xlim(-.5, lmax+.5)\n",
    "  ax.set_ylim(0, max(probs)*1.1)\n",
    "def padCounts(cts, numBits):\n",
    "  def sanitize(count): return (0 if count==None else count)\n",
    "  n = numBits\n",
    "  return {toBitString(i,n):sanitize(cts.get(toBitString(i,n))) for i in range(2**n)}\n",
    "def plotHistogram(counts,ax,fc='#9cf',textrot=0):\n",
    "  if isinstance (counts, dict):\n",
    "    nmax = len(list(counts.keys()) [0] )  # ugly\n",
    "    counts = padCounts(counts,nmax)\n",
    "    counts = list(counts.values())\n",
    "  nmax = int(np.log(len(counts)) / np.log(2)) # number of qubits\n",
    "  lmax = 2**nmax                           # number of states\n",
    "  ymax = max(counts)\n",
    "  for l in range(lmax):\n",
    "    c = counts[l]\n",
    "    patch = patches.Rectangle([l,0], 1,c, ec='black', fc=fc)\n",
    "    ax.add_patch(patch)\n",
    "    if c>0:\n",
    "      y = (c+.07*ymax if c<0.9*ymax else c-.07*ymax)\n",
    "      ax.text (l+.5, y, c, va='center',ha='center')\n",
    "  ax.set_xticks([l+.5 for l in range(lmax)])\n",
    "  ax.set_xticklabels([toBitString(l,nmax) for l in range(lmax)])  \n",
    "  ax.tick_params(axis='x', labelrotation=textrot)\n",
    "  ax.set_xlim(-.5, lmax+.5)\n",
    "  ax.set_ylim(0, ymax*1.02)\n",
    "\n",
    "sim = qiskit_aer.AerSimulator()                         # run this line if you want to use ideal simulator\n",
    "\n",
    "#sim = qiskit_aer.AerSimulator.from_backend(vigoBackend) # uncomment and run if you want to use a noisy simulator based on IBM's Vigo machine"
   ]
  },
  {
   "cell_type": "markdown",
   "id": "fea3bcde-7039-48e4-8fed-df5562e9e3cd",
   "metadata": {
    "tags": []
   },
   "source": [
    "<div class=\"alert alert-info\"><h2>   Typical Qiskit Workflow </h2></div>"
   ]
  },
  {
   "cell_type": "code",
   "execution_count": 72,
   "id": "06b1dfc3-f7c2-4bd0-8c00-0ad1b8ee1ea8",
   "metadata": {},
   "outputs": [],
   "source": [
    "#======== Setup circuit\n",
    "cir = qiskit.QuantumCircuit(1,2)  # make circuit\n",
    "cir.save_statevector('psi0')      # save statevector\n",
    "cir.h(0)\n",
    "cir.save_statevector('psi1')      # save statevector\n",
    "cir.measure(0,0)                  # measure qubit 0\n",
    "cir.save_statevector('psi2')      # save statevector\n",
    "cir.rx(np.radians(60), 0)\n",
    "cir.save_statevector('psi3')      # save statevector\n",
    "cir.measure(0,1)                  # measure qubit 0\n",
    "cir.save_statevector('psi4')      # save statevector\n",
    "#======== Run\n",
    "sim = qiskit.Aer.get_backend('aer_simulator_statevector')   # set up simulator\n",
    "exe = qiskit.transpile(cir,sim)   # compile\n",
    "job = sim.run(exe)                # run\n",
    "res = job.result()                # get result\n",
    "cts = res.get_counts()\n",
    "stateNames = [key for key in res.data().keys() if 'psi' in key]\n",
    "stateNames.sort()\n",
    "stateVectors = [np.asarray(res.data() [stateName]) for stateName in stateNames]"
   ]
  },
  {
   "cell_type": "code",
   "execution_count": 79,
   "id": "334d0c8d-b8dc-412f-aaf0-579cdd5f76ed",
   "metadata": {},
   "outputs": [
    {
     "data": {
      "image/png": "[encoded data removed]",
      "text/plain": [
       "<Figure size 648x288 with 1 Axes>"
      ]
     },
     "metadata": {},
     "output_type": "display_data"
    },
    {
     "data": {
      "image/png": "[encoded data removed]",
      "text/plain": [
       "<Figure size 648x144 with 5 Axes>"
      ]
     },
     "metadata": {
      "needs_background": "light"
     },
     "output_type": "display_data"
    },
    {
     "data": {
      "image/png": "[encoded data removed]",
      "text/plain": [
       "<Figure size 288x72 with 1 Axes>"
      ]
     },
     "metadata": {
      "needs_background": "light"
     },
     "output_type": "display_data"
    }
   ],
   "source": [
    "#======== Examine results\n",
    "fig,ax = plt.subplots(figsize=(9,4))\n",
    "cir.draw('mpl',ax=ax,cregbundle=False)\n",
    "smax = len(stateVectors)\n",
    "fig,axs = plt.subplots(1,smax,figsize=(9,2))\n",
    "for s in range(smax):\n",
    "  ax=axs[s]; plotStateVector(stateVectors[s], ax); ax.set_title (stateNames[s]); ax.set_ylim(0,1.1)\n",
    "fig,ax = plt.subplots(figsize=(4,1))\n",
    "plotHistogram (cts,ax)"
   ]
  }
 ],
 "metadata": {
  "kernelspec": {
   "display_name": "Python 3 (ipykernel)",
   "language": "python",
   "name": "python3"
  },
  "language_info": {
   "codemirror_mode": {
    "name": "ipython",
    "version": 3
   },
   "file_extension": ".py",
   "mimetype": "text/x-python",
   "name": "python",
   "nbconvert_exporter": "python",
   "pygments_lexer": "ipython3",
   "version": "3.9.12"
  }
 },
 "nbformat": 4,
 "nbformat_minor": 5
}
